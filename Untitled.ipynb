{
 "cells": [
  {
   "cell_type": "markdown",
   "id": "b3fd462d-b3f1-4420-b3ff-cc2d5277978c",
   "metadata": {},
   "source": [
    "Q1. Explain Class and Object with respect to Object-Oriented Programming. Give a suitable example."
   ]
  },
  {
   "cell_type": "code",
   "execution_count": 5,
   "id": "caa0ee90-2802-4326-977d-b30691d26c67",
   "metadata": {},
   "outputs": [
    {
     "name": "stdout",
     "output_type": "stream",
     "text": [
      "name of car Buggatichironpursport\n"
     ]
    }
   ],
   "source": [
    "## class is a blue print or defines the characteristics of real world entity\n",
    "## object is an instance of a class\n",
    "class Car:\n",
    "    def __init__(self,name,cost):\n",
    "        self.name=name\n",
    "        self.cost=cost\n",
    "        print(f\"name of car {self.name}\")\n",
    "car1=Car(\"Buggatichironpursport\",\"8crores\")"
   ]
  },
  {
   "cell_type": "markdown",
   "id": "59912f99-efe5-4058-bfcb-a4b0895f8100",
   "metadata": {},
   "source": [
    "Q2. Name the four pillars of OOPs."
   ]
  },
  {
   "cell_type": "markdown",
   "id": "cc80a949-7387-4fb7-9348-ea8d87c9651b",
   "metadata": {},
   "source": [
    "Encapsulation\n",
    "Abstraction\n",
    "Polymorphism\n",
    "Inheritance"
   ]
  },
  {
   "cell_type": "markdown",
   "id": "9237065f-4a89-45c8-8040-61ba3932f4e6",
   "metadata": {},
   "source": [
    "Q3. Explain why the __init__() function is used. Give a suitable example."
   ]
  },
  {
   "cell_type": "code",
   "execution_count": 7,
   "id": "364a0cac-afbd-4d18-a86e-f3090f46212b",
   "metadata": {},
   "outputs": [
    {
     "name": "stdout",
     "output_type": "stream",
     "text": [
      "name of car Buggatichironpursport\n",
      "name of car Mclaren 720lt\n"
     ]
    }
   ],
   "source": [
    "##init function act like similar to constructor in c++.\n",
    "##it is called automatically when an object is created\n",
    "class Car:\n",
    "    def __init__(self,name,cost):\n",
    "        self.name=name\n",
    "        self.cost=cost\n",
    "        print(f\"name of car {self.name}\")\n",
    "car1=Car(\"Buggatichironpursport\",\"8crores\")\n",
    "car2=Car(\"Mclaren 720lt\",\"4crores\")"
   ]
  },
  {
   "cell_type": "markdown",
   "id": "009bd467-4e65-4055-b338-58ff348590b0",
   "metadata": {},
   "source": [
    "Q4. Why self is used in OOPs?\n",
    "#### refers to current object within  the class mehod"
   ]
  },
  {
   "cell_type": "markdown",
   "id": "ab266115-eb52-4d92-ace9-9448d8850fdb",
   "metadata": {},
   "source": [
    "Q5. What is inheritance? Give an example for each type of inheritance."
   ]
  },
  {
   "cell_type": "code",
   "execution_count": 22,
   "id": "c16f987e-bec3-4a89-98c6-be44f232d6b3",
   "metadata": {},
   "outputs": [
    {
     "ename": "TypeError",
     "evalue": "Cannot create a consistent method resolution\norder (MRO) for bases vehicle, car",
     "output_type": "error",
     "traceback": [
      "\u001b[0;31m---------------------------------------------------------------------------\u001b[0m",
      "\u001b[0;31mTypeError\u001b[0m                                 Traceback (most recent call last)",
      "Cell \u001b[0;32mIn[22], line 16\u001b[0m\n\u001b[1;32m     14\u001b[0m         \u001b[38;5;28mprint\u001b[39m(\u001b[38;5;124m\"\u001b[39m\u001b[38;5;124mThe best car in the wolrd\u001b[39m\u001b[38;5;124m\"\u001b[39m)\n\u001b[1;32m     15\u001b[0m \u001b[38;5;66;03m## multiple inheritance\u001b[39;00m\n\u001b[0;32m---> 16\u001b[0m \u001b[38;5;28;01mclass\u001b[39;00m \u001b[38;5;21;01mmartin\u001b[39;00m(vehicle,car):\n\u001b[1;32m     17\u001b[0m     \u001b[38;5;28;01mdef\u001b[39;00m \u001b[38;5;21mbet\u001b[39m(\u001b[38;5;28mself\u001b[39m):\n\u001b[1;32m     18\u001b[0m         \u001b[38;5;28mprint\u001b[39m(\u001b[38;5;124m\"\u001b[39m\u001b[38;5;124mbeats bmw\u001b[39m\u001b[38;5;124m\"\u001b[39m)\n",
      "\u001b[0;31mTypeError\u001b[0m: Cannot create a consistent method resolution\norder (MRO) for bases vehicle, car"
     ]
    }
   ],
   "source": [
    "## inheritance is the pillar of oops in which a class obtains the properies of other classes and\n",
    "## also it can have unique properties which does not belong to parent class\n",
    "## single inheritance\n",
    "class vehicle:\n",
    "    def runs(self):\n",
    "        print(\"The vehicle runs on fuel\")\n",
    "class car(vehicle):\n",
    "    def run(self):\n",
    "        print(\"The car runs on petrol\")\n",
    "car1=car()\n",
    "#multi levelinheritance\n",
    "class Buggati(car):\n",
    "    def best(self):\n",
    "        print(\"The best car in the wolrd\")\n",
    "## multiple inheritance\n",
    "class martin(vehicle):\n",
    "    def bet(self):\n",
    "        print(\"beats bmw\")"
   ]
  },
  {
   "cell_type": "code",
   "execution_count": null,
   "id": "28c7f495-0b8c-4ede-b618-f76ae4c78da4",
   "metadata": {},
   "outputs": [],
   "source": []
  },
  {
   "cell_type": "code",
   "execution_count": null,
   "id": "7b54f376-5106-4317-87e3-c47db0702a70",
   "metadata": {},
   "outputs": [],
   "source": []
  }
 ],
 "metadata": {
  "kernelspec": {
   "display_name": "Python 3 (ipykernel)",
   "language": "python",
   "name": "python3"
  },
  "language_info": {
   "codemirror_mode": {
    "name": "ipython",
    "version": 3
   },
   "file_extension": ".py",
   "mimetype": "text/x-python",
   "name": "python",
   "nbconvert_exporter": "python",
   "pygments_lexer": "ipython3",
   "version": "3.10.8"
  }
 },
 "nbformat": 4,
 "nbformat_minor": 5
}
